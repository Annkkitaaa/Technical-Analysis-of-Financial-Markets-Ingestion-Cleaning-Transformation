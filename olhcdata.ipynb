{
 "cells": [
  {
   "cell_type": "markdown",
   "id": "3fec6afc",
   "metadata": {},
   "source": [
    "\n",
    "# Data Pipeline for Processing Historical Stock OHLC Data\n",
    "\n",
    "#### Introduction\n",
    "As a data engineer for a hedge fund specializing in technical analysis, your primary responsibility is to develop a robust data pipeline capable of efficiently processing and analyzing large volumes of historical stock data. This pipeline will be instrumental in providing clean, transformed, and aggregated Open, High, Low, and Close (OHLC) data for further analysis and model development.\n",
    "\n",
    "#### Objective\n",
    "The objective of this assignment is to design and implement a data pipeline that can seamlessly ingest, clean, transform, and aggregate the provided OHLC data. By building a scalable and efficient pipeline, you will enable your team to conduct thorough technical analysis, identify trading opportunities, and develop predictive models to enhance the fund's trading strategies."
   ]
  },
  {
   "cell_type": "markdown",
   "id": "da782e73",
   "metadata": {},
   "source": [
    "### Importing Libraries\n",
    "We will utilize the following Python libraries and tools to build our data pipeline:\n",
    "\n",
    "- `yfinance`: This library allows us to fetch OHLC data for stocks from Yahoo Finance.\n",
    "- `pandas`: Pandas will be used for data manipulation and analysis.\n",
    "- `numpy`: Numpy will provide support for numerical operations and array manipulation.\n",
    "- `plotly`: Plotly will be used for interactive data visualization.\n",
    "- `matplotlib`: Matplotlib will be used for creating static plots."
   ]
  },
  {
   "cell_type": "code",
   "execution_count": 61,
   "id": "4b5aca13",
   "metadata": {},
   "outputs": [],
   "source": [
    "import yfinance as yf\n",
    "import pandas as pd\n",
    "import numpy as np\n",
    "import unittest\n",
    "import logging\n",
    "import plotly.graph_objects as go\n",
    "import matplotlib.pyplot as plt"
   ]
  },
  {
   "cell_type": "markdown",
   "id": "b5163ad2",
   "metadata": {},
   "source": [
    "# Data Ingestion Process\n",
    "\n",
    "## Introduction\n",
    "\n",
    "Data ingestion is the process of collecting, importing, and transferring data from various sources into a storage or processing system for further analysis. In this markdown, we will outline the data ingestion process for our project, focusing on how we fetch, preprocess, and store OHLC stock data.\n",
    "\n",
    "## Steps of Data Ingestion\n",
    "\n",
    "### 1. Data Source Identification\n",
    "\n",
    "The first step is to identify the sources of OHLC stock data. These sources can include financial data providers, APIs (e.g., Yahoo Finance), or internal databases.\n",
    "\n",
    "### 2. Fetching Data\n",
    "\n",
    "Once the sources are identified, we use appropriate methods to fetch the OHLC data. This can involve using APIs provided by financial data providers or directly accessing databases.\n",
    "\n",
    "### 3. Data Cleaning and Preprocessing\n",
    "\n",
    "After fetching the data, we perform cleaning and preprocessing to ensure its quality and consistency. This includes handling missing values, removing duplicates, and standardizing data formats.\n",
    "\n",
    "### 4. Transformation and Feature Engineering\n",
    "\n",
    "In some cases, we may need to transform the data or engineer new features to make it suitable for analysis. For example, we may calculate additional technical indicators based on the OHLC data.\n",
    "\n",
    "### 5. Data Storage\n",
    "\n",
    "Finally, we store the processed data in a suitable storage system for further analysis. This can be a relational database, data warehouse, or distributed file system, depending on the volume and nature of the data.\n",
    "\n",
    "## Conclusion\n",
    "\n",
    "The data ingestion process is crucial for collecting and preparing OHLC stock data for analysis. By following the outlined steps, we ensure that the data is clean, consistent, and ready for further processing and analysis in our project.\n",
    "\n"
   ]
  },
  {
   "cell_type": "markdown",
   "id": "e6aa5186",
   "metadata": {},
   "source": [
    "###  Fetching data "
   ]
  },
  {
   "cell_type": "code",
   "execution_count": 62,
   "id": "88919800",
   "metadata": {},
   "outputs": [],
   "source": [
    "def fetch_stock_data(tickers, start_date, end_date):\n",
    "    \"\"\"Fetch OHLC data for multiple stocks.\"\"\"\n",
    "    stock_data = pd.DataFrame()\n",
    "    for ticker in tickers:\n",
    "        stock = yf.download(ticker, start=start_date, end=end_date)\n",
    "        stock['Ticker'] = ticker  # Add a column for ticker symbol\n",
    "        stock['Timestamp'] = f\"{start_date} - {end_date}\"  # Add a column for time frame\n",
    "        stock_data = pd.concat([stock_data, stock])\n",
    "    return stock_data\n"
   ]
  },
  {
   "cell_type": "code",
   "execution_count": 63,
   "id": "4d3b46ac",
   "metadata": {},
   "outputs": [],
   "source": [
    "def main():\n",
    "    # Define sample dataset of stock tickers\n",
    "    tickers = ['AAPL', 'MSFT', 'GOOGL', 'AMZN', 'FB', 'TSLA', 'NFLX', 'NVDA', 'PYPL', 'INTC']\n",
    "\n",
    "\n",
    "    # Define start and end dates for data retrieval\n",
    "    start_date = '2023-01-01'\n",
    "    end_date = '2023-12-31'\n",
    "\n",
    "    # Fetch OHLC data for the sample dataset\n",
    "    stock_data = fetch_stock_data(tickers, start_date, end_date)\n",
    "    return stock_data"
   ]
  },
  {
   "cell_type": "code",
   "execution_count": 91,
   "id": "a336517b",
   "metadata": {},
   "outputs": [
    {
     "name": "stdout",
     "output_type": "stream",
     "text": [
      "[*********************100%%**********************]  1 of 1 completed\n",
      "[*********************100%%**********************]  1 of 1 completed\n",
      "[*********************100%%**********************]  1 of 1 completed\n",
      "[*********************100%%**********************]  1 of 1 completed\n",
      "[*********************100%%**********************]  1 of 1 completed"
     ]
    },
    {
     "name": "stderr",
     "output_type": "stream",
     "text": [
      "\n",
      "1 Failed download:\n",
      "['FB']: Exception('%ticker%: No timezone found, symbol may be delisted')\n"
     ]
    },
    {
     "name": "stdout",
     "output_type": "stream",
     "text": [
      "\n",
      "[*********************100%%**********************]  1 of 1 completed"
     ]
    },
    {
     "name": "stderr",
     "output_type": "stream",
     "text": [
      "\n",
      "1 Failed download:\n",
      "['TSLA']: Exception('%ticker%: No price data found, symbol may be delisted (1d 2023-01-01 -> 2023-12-31)')\n"
     ]
    },
    {
     "name": "stdout",
     "output_type": "stream",
     "text": [
      "\n",
      "[*********************100%%**********************]  1 of 1 completed\n",
      "[*********************100%%**********************]  1 of 1 completed\n",
      "[*********************100%%**********************]  1 of 1 completed\n",
      "[*********************100%%**********************]  1 of 1 completed\n"
     ]
    }
   ],
   "source": [
    "data_source= main()\n",
    "# Assuming df is your DataFrame\n",
    "data_source.to_csv('beforeanalysis.csv', index=False)\n"
   ]
  },
  {
   "cell_type": "code",
   "execution_count": 65,
   "id": "f1af8cb6",
   "metadata": {},
   "outputs": [],
   "source": [
    "df=data_source"
   ]
  },
  {
   "cell_type": "code",
   "execution_count": 66,
   "id": "999bc665",
   "metadata": {},
   "outputs": [],
   "source": [
    "def validate_data(df):\n",
    "    # Check for missing values\n",
    "    missing_values = df.isnull().sum()\n",
    "    if missing_values.sum() > 0:\n",
    "        raise ValueError(\"Missing values found in the dataset.\")"
   ]
  },
  {
   "cell_type": "code",
   "execution_count": 67,
   "id": "73aeae13",
   "metadata": {},
   "outputs": [],
   "source": [
    "validate_data(data_source)"
   ]
  },
  {
   "cell_type": "markdown",
   "id": "80d3886a",
   "metadata": {},
   "source": [
    "# Explaining Multiple Plots for OHLC Data by Ticker\n",
    "\n",
    "In the provided code snippet, we are generating multiple plots to visualize the Open, Low, High, and Close (OHLC) prices for different stock tickers.\n",
    "\n",
    "## Explanation of Code\n",
    "\n",
    "### Importing Libraries\n",
    "We start by importing the necessary libraries:\n",
    "- `pandas` for data manipulation.\n",
    "- `matplotlib.pyplot` for data visualization.\n",
    "\n",
    "### Plotting Open, Low, High, Close Prices\n",
    "For each type of OHLC price (Open, Low, High, Close), we iterate over the DataFrame `df` grouped by the 'Ticker' column.\n",
    "\n",
    "We then plot the OHLC prices against the 'Ticker' for each group (stock) using `plt.plot()`.\n",
    "- `data['Ticker']` represents the x-axis (Ticker).\n",
    "- `data['Open']`, `data['Low']`, `data['High']`, `data['Close']` represent the y-axis (OHLC prices).\n",
    "- `label=ticker` ensures that each line plot is labeled with the corresponding ticker symbol.\n",
    "\n",
    "### Customizing Plots\n",
    "We set the x-axis label (`plt.xlabel()`), y-axis label (`plt.ylabel()`), plot title (`plt.title()`), and rotate the x-axis ticks (`plt.xticks(rotation=45)`).\n",
    "\n",
    "We also include a legend (`plt.legend()`) to distinguish between the different stock tickers, enable grid lines (`plt.grid(True)`), and adjust layout (`plt.tight_layout()`) for better visualization.\n",
    "\n",
    "### Displaying Plots\n",
    "Finally, we use `plt.show()` to display each plot individually.\n",
    "\n",
    "## Conclusion\n",
    "\n",
    "By creating multiple plots for each OHLC price by ticker, we can visually analyze the performance of different stocks over time, helping in identifying trends, patterns, and potential trading opportunities.\n"
   ]
  },
  {
   "cell_type": "code",
   "execution_count": 69,
   "id": "806aebac",
   "metadata": {
    "scrolled": true
   },
   "outputs": [
    {
     "data": {
      "image/png": "[encoded data removed]",
      "text/plain": [
       "<Figure size 1000x600 with 1 Axes>"
      ]
     },
     "metadata": {},
     "output_type": "display_data"
    },
    {
     "data": {
      "image/png": "[encoded data removed]",
      "text/plain": [
       "<Figure size 1000x600 with 1 Axes>"
      ]
     },
     "metadata": {},
     "output_type": "display_data"
    },
    {
     "data": {
      "image/png": "[encoded data removed]",
      "text/plain": [
       "<Figure size 1000x600 with 1 Axes>"
      ]
     },
     "metadata": {},
     "output_type": "display_data"
    },
    {
     "data": {
      "image/png": "[encoded data removed]",
      "text/plain": [
       "<Figure size 1000x600 with 1 Axes>"
      ]
     },
     "metadata": {},
     "output_type": "display_data"
    }
   ],
   "source": [
    "import pandas as pd\n",
    "import matplotlib.pyplot as plt\n",
    "\n",
    "# Assuming df is your DataFrame with ticker, open, low, high, close columns\n",
    "\n",
    "# Plot for Open\n",
    "plt.figure(figsize=(10, 6))\n",
    "for ticker, data in df.groupby('Ticker'):\n",
    "    plt.plot(data['Ticker'], data['Open'], label=ticker)\n",
    "plt.xlabel('Ticker')\n",
    "plt.ylabel('Open Price')\n",
    "plt.title('Open Price by Ticker')\n",
    "plt.xticks(rotation=45)\n",
    "plt.legend()\n",
    "plt.grid(True)\n",
    "plt.tight_layout()\n",
    "plt.show()\n",
    "\n",
    "# Plot for Low\n",
    "plt.figure(figsize=(10, 6))\n",
    "for ticker, data in df.groupby('Ticker'):\n",
    "    plt.plot(data['Ticker'], data['Low'], label=ticker)\n",
    "plt.xlabel('Ticker')\n",
    "plt.ylabel('Low Price')\n",
    "plt.title('Low Price by Ticker')\n",
    "plt.xticks(rotation=45)\n",
    "plt.legend()\n",
    "plt.grid(True)\n",
    "plt.tight_layout()\n",
    "plt.show()\n",
    "\n",
    "# Plot for High\n",
    "plt.figure(figsize=(10, 6))\n",
    "for ticker, data in df.groupby('Ticker'):\n",
    "    plt.plot(data['Ticker'], data['High'], label=ticker)\n",
    "plt.xlabel('Ticker')\n",
    "plt.ylabel('High Price')\n",
    "plt.title('High Price by Ticker')\n",
    "plt.xticks(rotation=45)\n",
    "plt.legend()\n",
    "plt.grid(True)\n",
    "plt.tight_layout()\n",
    "plt.show()\n",
    "\n",
    "# Plot for Close\n",
    "plt.figure(figsize=(10, 6))\n",
    "for ticker, data in df.groupby('Ticker'):\n",
    "    plt.plot(data['Ticker'], data['Close'], label=ticker)\n",
    "plt.xlabel('Ticker')\n",
    "plt.ylabel('Close Price')\n",
    "plt.title('Close Price by Ticker')\n",
    "plt.xticks(rotation=45)\n",
    "plt.legend()\n",
    "plt.grid(True)\n",
    "plt.tight_layout()\n",
    "plt.show()\n"
   ]
  },
  {
   "cell_type": "code",
   "execution_count": 70,
   "id": "113871a6",
   "metadata": {},
   "outputs": [],
   "source": [
    "def standardize_data(df):\n",
    "    # Convert OHLC data to a common structure (e.g., pandas DataFrame)\n",
    "    # Ensure OHLC columns are present in the DataFrame\n",
    "    required_columns = ['Open', 'High', 'Low', 'Close','Adj Close','Volume','Ticker']\n",
    "    if not set(required_columns).issubset(df.columns):\n",
    "        raise ValueError(\"Required OHLC columns missing in the dataset.\")\n",
    "\n",
    "    # Sort data by timestamp (optional but recommended)\n",
    "    df.sort_values(by='Timestamp', inplace=True)\n",
    "\n",
    "    return df"
   ]
  },
  {
   "cell_type": "code",
   "execution_count": 71,
   "id": "d3a6df75",
   "metadata": {
    "scrolled": true
   },
   "outputs": [
    {
     "data": {
      "text/html": [
       "<div>\n",
       "<style scoped>\n",
       "    .dataframe tbody tr th:only-of-type {\n",
       "        vertical-align: middle;\n",
       "    }\n",
       "\n",
       "    .dataframe tbody tr th {\n",
       "        vertical-align: top;\n",
       "    }\n",
       "\n",
       "    .dataframe thead th {\n",
       "        text-align: right;\n",
       "    }\n",
       "</style>\n",
       "<table border=\"1\" class=\"dataframe\">\n",
       "  <thead>\n",
       "    <tr style=\"text-align: right;\">\n",
       "      <th></th>\n",
       "      <th>Open</th>\n",
       "      <th>High</th>\n",
       "      <th>Low</th>\n",
       "      <th>Close</th>\n",
       "      <th>Adj Close</th>\n",
       "      <th>Volume</th>\n",
       "      <th>Ticker</th>\n",
       "      <th>Timestamp</th>\n",
       "    </tr>\n",
       "    <tr>\n",
       "      <th>Date</th>\n",
       "      <th></th>\n",
       "      <th></th>\n",
       "      <th></th>\n",
       "      <th></th>\n",
       "      <th></th>\n",
       "      <th></th>\n",
       "      <th></th>\n",
       "      <th></th>\n",
       "    </tr>\n",
       "  </thead>\n",
       "  <tbody>\n",
       "    <tr>\n",
       "      <th>2023-01-03</th>\n",
       "      <td>130.279999</td>\n",
       "      <td>130.899994</td>\n",
       "      <td>124.169998</td>\n",
       "      <td>125.070000</td>\n",
       "      <td>124.216301</td>\n",
       "      <td>112117500.0</td>\n",
       "      <td>AAPL</td>\n",
       "      <td>2023-01-01 - 2023-12-31</td>\n",
       "    </tr>\n",
       "    <tr>\n",
       "      <th>2023-01-13</th>\n",
       "      <td>162.779999</td>\n",
       "      <td>169.220001</td>\n",
       "      <td>161.649994</td>\n",
       "      <td>168.990005</td>\n",
       "      <td>168.915054</td>\n",
       "      <td>44728700.0</td>\n",
       "      <td>NVDA</td>\n",
       "      <td>2023-01-01 - 2023-12-31</td>\n",
       "    </tr>\n",
       "    <tr>\n",
       "      <th>2023-01-12</th>\n",
       "      <td>161.000000</td>\n",
       "      <td>166.369995</td>\n",
       "      <td>154.919998</td>\n",
       "      <td>165.110001</td>\n",
       "      <td>165.036789</td>\n",
       "      <td>55140900.0</td>\n",
       "      <td>NVDA</td>\n",
       "      <td>2023-01-01 - 2023-12-31</td>\n",
       "    </tr>\n",
       "    <tr>\n",
       "      <th>2023-01-11</th>\n",
       "      <td>158.399994</td>\n",
       "      <td>160.279999</td>\n",
       "      <td>155.630005</td>\n",
       "      <td>160.009995</td>\n",
       "      <td>159.939026</td>\n",
       "      <td>35328500.0</td>\n",
       "      <td>NVDA</td>\n",
       "      <td>2023-01-01 - 2023-12-31</td>\n",
       "    </tr>\n",
       "    <tr>\n",
       "      <th>2023-01-10</th>\n",
       "      <td>155.070007</td>\n",
       "      <td>159.619995</td>\n",
       "      <td>154.720001</td>\n",
       "      <td>159.089996</td>\n",
       "      <td>159.019424</td>\n",
       "      <td>38410100.0</td>\n",
       "      <td>NVDA</td>\n",
       "      <td>2023-01-01 - 2023-12-31</td>\n",
       "    </tr>\n",
       "    <tr>\n",
       "      <th>...</th>\n",
       "      <td>...</td>\n",
       "      <td>...</td>\n",
       "      <td>...</td>\n",
       "      <td>...</td>\n",
       "      <td>...</td>\n",
       "      <td>...</td>\n",
       "      <td>...</td>\n",
       "      <td>...</td>\n",
       "    </tr>\n",
       "    <tr>\n",
       "      <th>2023-01-04</th>\n",
       "      <td>86.550003</td>\n",
       "      <td>86.980003</td>\n",
       "      <td>83.360001</td>\n",
       "      <td>85.139999</td>\n",
       "      <td>85.139999</td>\n",
       "      <td>68885100.0</td>\n",
       "      <td>AMZN</td>\n",
       "      <td>2023-01-01 - 2023-12-31</td>\n",
       "    </tr>\n",
       "    <tr>\n",
       "      <th>2023-01-05</th>\n",
       "      <td>85.330002</td>\n",
       "      <td>85.419998</td>\n",
       "      <td>83.070000</td>\n",
       "      <td>83.120003</td>\n",
       "      <td>83.120003</td>\n",
       "      <td>67930800.0</td>\n",
       "      <td>AMZN</td>\n",
       "      <td>2023-01-01 - 2023-12-31</td>\n",
       "    </tr>\n",
       "    <tr>\n",
       "      <th>2023-01-06</th>\n",
       "      <td>83.029999</td>\n",
       "      <td>86.400002</td>\n",
       "      <td>81.430000</td>\n",
       "      <td>86.080002</td>\n",
       "      <td>86.080002</td>\n",
       "      <td>83303400.0</td>\n",
       "      <td>AMZN</td>\n",
       "      <td>2023-01-01 - 2023-12-31</td>\n",
       "    </tr>\n",
       "    <tr>\n",
       "      <th>2023-12-27</th>\n",
       "      <td>141.589996</td>\n",
       "      <td>142.080002</td>\n",
       "      <td>139.889999</td>\n",
       "      <td>140.369995</td>\n",
       "      <td>140.369995</td>\n",
       "      <td>19628600.0</td>\n",
       "      <td>GOOGL</td>\n",
       "      <td>2023-01-01 - 2023-12-31</td>\n",
       "    </tr>\n",
       "    <tr>\n",
       "      <th>2023-12-29</th>\n",
       "      <td>50.299999</td>\n",
       "      <td>50.570000</td>\n",
       "      <td>49.770000</td>\n",
       "      <td>50.250000</td>\n",
       "      <td>50.103138</td>\n",
       "      <td>29266500.0</td>\n",
       "      <td>INTC</td>\n",
       "      <td>2023-01-01 - 2023-12-31</td>\n",
       "    </tr>\n",
       "  </tbody>\n",
       "</table>\n",
       "<p>2250 rows × 8 columns</p>\n",
       "</div>"
      ],
      "text/plain": [
       "                  Open        High         Low       Close   Adj Close  \\\n",
       "Date                                                                     \n",
       "2023-01-03  130.279999  130.899994  124.169998  125.070000  124.216301   \n",
       "2023-01-13  162.779999  169.220001  161.649994  168.990005  168.915054   \n",
       "2023-01-12  161.000000  166.369995  154.919998  165.110001  165.036789   \n",
       "2023-01-11  158.399994  160.279999  155.630005  160.009995  159.939026   \n",
       "2023-01-10  155.070007  159.619995  154.720001  159.089996  159.019424   \n",
       "...                ...         ...         ...         ...         ...   \n",
       "2023-01-04   86.550003   86.980003   83.360001   85.139999   85.139999   \n",
       "2023-01-05   85.330002   85.419998   83.070000   83.120003   83.120003   \n",
       "2023-01-06   83.029999   86.400002   81.430000   86.080002   86.080002   \n",
       "2023-12-27  141.589996  142.080002  139.889999  140.369995  140.369995   \n",
       "2023-12-29   50.299999   50.570000   49.770000   50.250000   50.103138   \n",
       "\n",
       "                 Volume Ticker                Timestamp  \n",
       "Date                                                     \n",
       "2023-01-03  112117500.0   AAPL  2023-01-01 - 2023-12-31  \n",
       "2023-01-13   44728700.0   NVDA  2023-01-01 - 2023-12-31  \n",
       "2023-01-12   55140900.0   NVDA  2023-01-01 - 2023-12-31  \n",
       "2023-01-11   35328500.0   NVDA  2023-01-01 - 2023-12-31  \n",
       "2023-01-10   38410100.0   NVDA  2023-01-01 - 2023-12-31  \n",
       "...                 ...    ...                      ...  \n",
       "2023-01-04   68885100.0   AMZN  2023-01-01 - 2023-12-31  \n",
       "2023-01-05   67930800.0   AMZN  2023-01-01 - 2023-12-31  \n",
       "2023-01-06   83303400.0   AMZN  2023-01-01 - 2023-12-31  \n",
       "2023-12-27   19628600.0  GOOGL  2023-01-01 - 2023-12-31  \n",
       "2023-12-29   29266500.0   INTC  2023-01-01 - 2023-12-31  \n",
       "\n",
       "[2250 rows x 8 columns]"
      ]
     },
     "execution_count": 71,
     "metadata": {},
     "output_type": "execute_result"
    }
   ],
   "source": [
    "standardize_data(data_source)"
   ]
  },
  {
   "cell_type": "code",
   "execution_count": 72,
   "id": "1ca3ccc3",
   "metadata": {},
   "outputs": [],
   "source": [
    "df['Open'] = df['Open'].astype(float)\n",
    "df['High'] = df['High'].astype(float)\n",
    "df['Low'] = df['Low'].astype(float)\n",
    "df['Close'] = df['Close'].astype(float)\n",
    "df['Timestamp'] = pd.to_datetime(df['Timestamp'])"
   ]
  },
  {
   "cell_type": "markdown",
   "id": "3274685a",
   "metadata": {},
   "source": [
    "# Data Cleaning Process\n",
    "\n",
    "## Introduction\n",
    "\n",
    "Data cleaning is an essential step in the data analysis workflow aimed at ensuring data quality, consistency, and reliability. In this markdown, we will explain the data cleaning process and its importance in preparing data for analysis.\n",
    "\n",
    "## Steps of Data Cleaning\n",
    "\n",
    "### 1. Handling Missing Values\n",
    "\n",
    "One of the primary tasks in data cleaning is dealing with missing values. This involves identifying missing values in the dataset and deciding on appropriate strategies for handling them, such as imputation, deletion, or interpolation.\n",
    "\n",
    "### 2. Removing Duplicates\n",
    "\n",
    "Duplicate records in the dataset can skew analysis results and lead to inaccurate insights. Data cleaning involves detecting and removing duplicate rows or entries to ensure data integrity.\n",
    "\n",
    "### 3. Standardizing Data Formats\n",
    "\n",
    "Inconsistent data formats across different columns or variables can hinder analysis and interpretation. Data cleaning may involve standardizing data formats, such as dates, currencies, or units, to ensure uniformity and consistency.\n",
    "\n",
    "### 4. Handling Outliers\n",
    "\n",
    "Outliers are data points that significantly deviate from the rest of the dataset and may distort analysis results. Data cleaning includes identifying and addressing outliers through techniques like trimming, winsorization, or transformation.\n",
    "\n",
    "### 5. Correcting Errors\n",
    "\n",
    "Errors in data entry or recording can introduce inaccuracies into the dataset. Data cleaning involves identifying and correcting errors, such as typos, incorrect values, or mislabeled categories, to ensure data accuracy.\n",
    "\n",
    "### 6. Data Validation\n",
    "\n",
    "Validating the integrity and accuracy of the data is an important aspect of data cleaning. This may involve cross-referencing data with external sources, performing sanity checks, or verifying data against predefined criteria.\n",
    "\n",
    "## Importance of Data Cleaning\n",
    "\n",
    "Data cleaning is crucial for ensuring the quality and reliability of analysis results. By cleaning the data, we can:\n",
    "- Improve data accuracy and integrity.\n",
    "- Enhance the reliability of analysis and insights.\n",
    "- Minimize the risk of making incorrect decisions based on flawed data.\n",
    "- Facilitate smoother data analysis processes and workflows.\n",
    "\n",
    "## Conclusion\n",
    "\n",
    "Data cleaning is an essential step in the data analysis pipeline that involves identifying and rectifying inconsistencies, errors, and inaccuracies in the dataset. By following a systematic data cleaning process, we can ensure that the data is of high quality and suitable for meaningful analysis and interpretation.\n"
   ]
  },
  {
   "cell_type": "markdown",
   "id": "e7f5cad7",
   "metadata": {},
   "source": [
    "# Data Transformation Process\n",
    "\n",
    "## Introduction\n",
    "\n",
    "Data transformation is a critical step in the data analysis workflow aimed at converting raw data into a format that is suitable for analysis and modeling. In this markdown, we will explain the data transformation process and its importance in preparing data for further analysis.\n",
    "\n",
    "## Steps of Data Transformation\n",
    "\n",
    "### 1. Feature Engineering\n",
    "\n",
    "Feature engineering involves creating new features or variables from existing ones to enhance the predictive power of the dataset. This can include generating interaction terms, creating dummy variables for categorical data, or deriving new variables based on domain knowledge.\n",
    "\n",
    "### 2. Scaling and Normalization\n",
    "\n",
    "Scaling and normalization are techniques used to standardize the range of numerical features in the dataset. This ensures that all features contribute equally to the analysis and prevents biases that may arise from differences in scale. Common methods include Min-Max scaling, Z-score normalization, and Robust scaling.\n",
    "\n",
    "### 3. Encoding Categorical Variables\n",
    "\n",
    "Categorical variables need to be encoded into numerical format before they can be used in machine learning algorithms. This can be achieved through techniques such as one-hot encoding, label encoding, or binary encoding, depending on the nature of the data and the requirements of the model.\n",
    "\n",
    "### 4. Handling Text Data\n",
    "\n",
    "Text data often requires special treatment before it can be used in analysis or modeling. This may involve techniques such as tokenization, stemming, lemmatization, or vectorization to convert text into a numerical format that can be processed by machine learning algorithms.\n",
    "\n",
    "### 5. Dimensionality Reduction\n",
    "\n",
    "Dimensionality reduction techniques are used to reduce the number of features in the dataset while preserving its essential information. This can help improve computational efficiency, reduce overfitting, and enhance interpretability. Common methods include Principal Component Analysis (PCA), t-Distributed Stochastic Neighbor Embedding (t-SNE), and Singular Value Decomposition (SVD).\n",
    "\n",
    "## Importance of Data Transformation\n",
    "\n",
    "Data transformation plays a crucial role in preparing raw data for analysis and modeling. By transforming the data, we can:\n",
    "- Enhance the predictive power of the dataset by creating meaningful features.\n",
    "- Standardize the scale and distribution of numerical features to prevent biases.\n",
    "- Convert categorical and text data into a format that can be processed by machine learning algorithms.\n",
    "- Reduce the dimensionality of the dataset to improve computational efficiency and interpretability.\n",
    "\n",
    "## Conclusion\n",
    "\n",
    "Data transformation is an essential step in the data analysis pipeline that involves converting raw data into a format that is suitable for analysis and modeling. By following a systematic data transformation process, we can enhance the quality and usability of the dataset, leading to more accurate and reliable insights.\n"
   ]
  },
  {
   "cell_type": "code",
   "execution_count": 73,
   "id": "03b90c87",
   "metadata": {},
   "outputs": [],
   "source": [
    "def calculate_technical_indicators(df):\n",
    "    # Calculate moving averages\n",
    "    df['MA_50'] = df['Close'].rolling(window=50).mean()\n",
    "    df['MA_200'] = df['Close'].rolling(window=200).mean()\n",
    "\n",
    "    # Calculate Bollinger Bands\n",
    "    rolling_std = df['Close'].rolling(window=20).std()\n",
    "    df['Bollinger_Band_Middle'] = df['Close'].rolling(window=20).mean()\n",
    "    df['Bollinger_Band_Upper'] = df['Bollinger_Band_Middle'] + 2 * rolling_std\n",
    "    df['Bollinger_Band_Lower'] = df['Bollinger_Band_Middle'] - 2 * rolling_std\n",
    "\n",
    "    # Calculate Relative Strength Index (RSI)\n",
    "    delta = df['Close'].diff()\n",
    "    gain = (delta.where(delta > 0, 0)).rolling(window=14).mean()\n",
    "    loss = (-delta.where(delta < 0, 0)).rolling(window=14).mean()\n",
    "    rs = gain / loss\n",
    "    df['RSI'] = 100 - (100 / (1 + rs))\n",
    "\n",
    "    return df"
   ]
  },
  {
   "cell_type": "code",
   "execution_count": 74,
   "id": "02b8b7b9",
   "metadata": {},
   "outputs": [],
   "source": [
    "def apply_feature_engineering(df):\n",
    "    # Example: Calculate volatility measure (standard deviation of daily returns)\n",
    "    df['Daily_Return'] = df['Close'].pct_change()\n",
    "    df['Volatility'] = df['Daily_Return'].rolling(window=20).std() * np.sqrt(252)  # Annualized volatility\n",
    "\n",
    "    # Add more feature engineering techniques as needed for your trading strategy\n",
    "\n",
    "    return df"
   ]
  },
  {
   "cell_type": "code",
   "execution_count": 75,
   "id": "b027ff2f",
   "metadata": {},
   "outputs": [],
   "source": [
    "def resample_data(df, frequency):\n",
    "    # Resample the data based on desired frequency (e.g., daily to hourly)\n",
    "    df_resampled = df.resample(frequency).agg({\n",
    "        'Open': 'first',\n",
    "        'High': 'max',\n",
    "        'Low': 'min',\n",
    "        'Close': 'last',\n",
    "        'Volume': 'sum',\n",
    "        'MA_50': 'last',\n",
    "        'MA_200': 'last',\n",
    "        'Bollinger_Band_Middle': 'last',\n",
    "        'Bollinger_Band_Upper': 'last',\n",
    "        'Bollinger_Band_Lower': 'last',\n",
    "        'RSI': 'last',\n",
    "        'Volatility': 'last'\n",
    "    }).dropna()\n",
    "\n",
    "    return df_resampled"
   ]
  },
  {
   "cell_type": "code",
   "execution_count": 76,
   "id": "5ed6f254",
   "metadata": {},
   "outputs": [],
   "source": [
    "df = calculate_technical_indicators(df)\n",
    "df = apply_feature_engineering(df)\n",
    "df_resampled = resample_data(df, 'H') "
   ]
  },
  {
   "cell_type": "markdown",
   "id": "13b2fd47",
   "metadata": {},
   "source": [
    "# Data Validation Process\n",
    "\n",
    "## Introduction\n",
    "\n",
    "Data validation is a crucial step in the data analysis workflow aimed at ensuring the accuracy, completeness, and reliability of the dataset. In this markdown, we will explain the data validation process and its importance in ensuring data quality.\n",
    "\n",
    "## Steps of Data Validation\n",
    "\n",
    "### 1. Cross-Checking Data\n",
    "\n",
    "Cross-checking involves comparing data from different sources or sources against predefined criteria to identify discrepancies or inconsistencies. This helps verify the accuracy and integrity of the dataset.\n",
    "\n",
    "### 2. Performing Sanity Checks\n",
    "\n",
    "Sanity checks involve verifying data against logical or domain-specific constraints to ensure its validity. This may include checking for unrealistic values, unexpected patterns, or outliers that may indicate errors in the dataset.\n",
    "\n",
    "### 3. Validating Against External Sources\n",
    "\n",
    "Validating data against external sources or benchmarks can help verify its accuracy and reliability. This may involve comparing data with publicly available datasets, official statistics, or expert opinions to confirm its validity.\n",
    "\n",
    "### 4. Assessing Data Quality Metrics\n",
    "\n",
    "Assessing data quality metrics involves quantitatively evaluating various aspects of the dataset, such as completeness, consistency, and timeliness. This may include calculating metrics such as missing value percentages, data distribution, or data volatility to identify potential issues.\n",
    "\n",
    "### 5. Reviewing Data Documentation\n",
    "\n",
    "Reviewing data documentation, metadata, or data dictionaries can provide valuable insights into the origin, structure, and semantics of the dataset. This helps ensure that the data is used and interpreted correctly in analysis and decision-making.\n",
    "\n",
    "## Importance of Data Validation\n",
    "\n",
    "Data validation is essential for ensuring the reliability and trustworthiness of the dataset. By validating the data, we can:\n",
    "- Identify and correct errors or inconsistencies in the dataset.\n",
    "- Verify the accuracy and completeness of the data.\n",
    "- Enhance the reliability and credibility of analysis results and insights.\n",
    "- Minimize the risk of making incorrect decisions based on flawed or inaccurate data.\n",
    "\n",
    "## Conclusion\n",
    "\n",
    "Data validation is a critical step in the data analysis process that helps ensure the accuracy, completeness, and reliability of the dataset. By following a systematic data validation process, we can enhance data quality and trustworthiness, leading to more accurate and reliable analysis results and insights.\n"
   ]
  },
  {
   "cell_type": "code",
   "execution_count": 77,
   "id": "4ec08806",
   "metadata": {},
   "outputs": [],
   "source": [
    "# Define a logger\n",
    "logger = logging.getLogger(__name__)\n",
    "logger.setLevel(logging.INFO)\n",
    "formatter = logging.Formatter('%(asctime)s - %(levelname)s - %(message)s')\n",
    "stream_handler = logging.StreamHandler()\n",
    "stream_handler.setFormatter(formatter)\n",
    "logger.addHandler(stream_handler)"
   ]
  },
  {
   "cell_type": "code",
   "execution_count": 78,
   "id": "9143c82a",
   "metadata": {},
   "outputs": [],
   "source": [
    "def test_data_integrity(df):\n",
    "    # Unit test to ensure data integrity\n",
    "    # Example: Check if there are any missing values in the DataFrame\n",
    "    assert not df.isnull().values.any(), \"Data contains missing values.\"\n"
   ]
  },
  {
   "cell_type": "code",
   "execution_count": 79,
   "id": "0e3297b0",
   "metadata": {},
   "outputs": [],
   "source": [
    "def test_pipeline_functionality(df):\n",
    "    # Unit test to ensure pipeline's functionality\n",
    "    # Example: Check if the pipeline returns a DataFrame with expected columns\n",
    "    expected_columns = ['Open', 'High', 'Low', 'Close', 'Volume', 'MA_50', 'MA_200', 'Bollinger_Band_Middle', 'Bollinger_Band_Upper', 'Bollinger_Band_Lower', 'RSI', 'Volatility']\n",
    "    assert list(df.columns) == expected_columns, \"Pipeline did not return expected columns.\"\n"
   ]
  },
  {
   "cell_type": "code",
   "execution_count": 80,
   "id": "928683b8",
   "metadata": {},
   "outputs": [],
   "source": [
    "def monitor_pipeline_errors(df):\n",
    "    try:\n",
    "        # Your pipeline code here\n",
    "        # Example: Call fetch_stock_data, clean_stock_data, etc.\n",
    "        # If an error occurs, raise an exception\n",
    "        # Example: raise Exception(\"An error occurred in the pipeline.\")\n",
    "        pass  # Placeholder to indicate where your pipeline code should go\n",
    "\n",
    "    except Exception as e:\n",
    "        # Log the error and any relevant information\n",
    "        logger.error(\"An error occurred in the pipeline: %s\", str(e))\n",
    "        # You can also send alerts or notifications to relevant stakeholders\n",
    "\n"
   ]
  },
  {
   "cell_type": "markdown",
   "id": "f0dca301",
   "metadata": {},
   "source": [
    "# Data Storage\n",
    "\n",
    "## Introduction\n",
    "\n",
    "Data storage is a fundamental component of any data-driven organization, providing a mechanism for storing, organizing, and managing large volumes of data. In this markdown, we will discuss the importance of data storage and various strategies for storing data effectively.\n",
    "\n",
    "## Importance of Data Storage\n",
    "\n",
    "Data storage is essential for the following reasons:\n",
    "\n",
    "- **Data Preservation:** Storing data allows organizations to preserve valuable information for future analysis, decision-making, and compliance purposes.\n",
    "\n",
    "- **Data Accessibility:** Centralized data storage enables easy access to data by authorized users, facilitating efficient data sharing, collaboration, and decision-making.\n",
    "\n",
    "- **Scalability:** A robust data storage infrastructure can accommodate the growing volume, variety, and velocity of data generated by modern applications and systems, ensuring scalability and flexibility.\n",
    "\n",
    "- **Data Security:** Implementing secure data storage mechanisms helps protect sensitive information from unauthorized access, breaches, and data loss, safeguarding the integrity and confidentiality of the data.\n",
    "\n",
    "- **Compliance and Governance:** Proper data storage practices support regulatory compliance and governance requirements by ensuring data is stored, managed, and accessed in accordance with legal and industry standards.\n",
    "\n",
    "## Strategies for Data Storage\n",
    "\n",
    "### 1. Relational Databases\n",
    "\n",
    "Relational databases are widely used for structured data storage, offering features such as data integrity, ACID transactions, and SQL-based querying capabilities. Examples include MySQL, PostgreSQL, and Oracle.\n",
    "\n",
    "### 2. NoSQL Databases\n",
    "\n",
    "NoSQL databases are suitable for storing semi-structured and unstructured data, providing scalability, flexibility, and horizontal partitioning. Examples include MongoDB, Cassandra, and Redis.\n",
    "\n",
    "### 3. Data Warehouses\n",
    "\n",
    "Data warehouses are specialized databases optimized for analytics and reporting, supporting complex queries, data aggregation, and multidimensional analysis. Examples include Snowflake, Amazon Redshift, and Google BigQuery.\n",
    "\n",
    "### 4. Data Lakes\n",
    "\n",
    "Data lakes are storage repositories that store raw, unstructured, and structured data in its native format, enabling data exploration, analytics, and machine learning. Examples include Amazon S3, Azure Data Lake Storage, and Hadoop HDFS.\n",
    "\n",
    "### 5. Cloud Storage\n",
    "\n",
    "Cloud storage services offer scalable, durable, and cost-effective storage solutions for various types of data, providing features such as high availability, data redundancy, and pay-as-you-go pricing models. Examples include Amazon S3, Google Cloud Storage, and Microsoft Azure Blob Storage.\n",
    "\n",
    "## Conclusion\n",
    "\n",
    "Effective data storage is essential for organizations to manage and leverage data effectively for analysis, decision-making, and innovation. By implementing appropriate data storage strategies and technologies, organizations can ensure data accessibility, scalability, security, and compliance, laying the foundation for successful data-driven initiatives.\n"
   ]
  },
  {
   "cell_type": "code",
   "execution_count": 81,
   "id": "814a8b60",
   "metadata": {
    "scrolled": true
   },
   "outputs": [
    {
     "name": "stdout",
     "output_type": "stream",
     "text": [
      "Requirement already satisfied: pymysql in c:\\users\\ankita singh\\anaconda3\\lib\\site-packages (1.1.0)\n",
      "Note: you may need to restart the kernel to use updated packages.\n"
     ]
    }
   ],
   "source": [
    "pip install pymysql\n"
   ]
  },
  {
   "cell_type": "code",
   "execution_count": 46,
   "id": "0a2cb4d5",
   "metadata": {},
   "outputs": [],
   "source": [
    "import pymysql\n",
    "from sqlalchemy import create_engine\n"
   ]
  },
  {
   "cell_type": "code",
   "execution_count": null,
   "id": "91e56b62",
   "metadata": {},
   "outputs": [],
   "source": [
    "pip install mysql-connector-python"
   ]
  },
  {
   "cell_type": "code",
   "execution_count": null,
   "id": "976f265f",
   "metadata": {
    "scrolled": false
   },
   "outputs": [],
   "source": [
    "import mysql.connector\n",
    "from sqlalchemy import create_engine\n",
    "# Connect to the MySQL database\n",
    "\n",
    "# Replace these values with your database credentials\n",
    "DB_NAME = 'olhc-data-storage'\n",
    "DB_USER = 'admin'\n",
    "DB_PASSWORD = 'EJqWZxRLwaf8LM23NzZ'\n",
    "DB_HOST = 'olhc-data-storage.cn4mcmo68odx.eu-north-1.rds.amazonaws.com'\n",
    "DB_PORT = 3306\n",
    "\n",
    "# Connect to the database with increased connection timeout\n",
    "conn = pymysql.connect(\n",
    "    database=DB_NAME,\n",
    "    user=DB_USER,\n",
    "    password=DB_PASSWORD,\n",
    "    host=DB_HOST,\n",
    "    port=DB_PORT,\n",
    "    connect_timeout=30  # Increase the connection timeout to 30 seconds\n",
    ")\n",
    "\n",
    "# Create a SQLAlchemy engine\n",
    "engine = create_engine(f'mysql+pymysql://{DB_USER}:{DB_PASSWORD}@{DB_HOST}:{DB_PORT}/{DB_NAME}')\n",
    "\n",
    "# Write DataFrame to a table in the database\n",
    "df.to_sql('your_table_name', engine, index=False, if_exists='replace')\n",
    "\n",
    "# Close the connection\n",
    "conn.close()\n",
    "\n",
    "# Now, let's execute SQL commands to partition the table by year and month\n",
    "with engine.connect() as connection:\n",
    "    with connection.begin():\n",
    "        # Create a partitioned table\n",
    "        connection.execute(\"\"\"\n",
    "            CREATE TABLE partitioned_table (\n",
    "                -- Define your columns here\n",
    "                column1 data_type,\n",
    "                column2 data_type,\n",
    "                ...,\n",
    "                year INT,\n",
    "                month INT\n",
    "            ) PARTITION BY RANGE COLUMNS(year, month);\n",
    "        \"\"\")\n",
    "        \n",
    "        # Create partitions for each year and month\n",
    "        for year in range(df['Date'].dt.year.min(), df['Date'].dt.year.max() + 1):\n",
    "            for month in range(1, 13):\n",
    "                partition_name = f\"partition_{year}_{month:02d}\"\n",
    "                connection.execute(f\"\"\"\n",
    "                    CREATE TABLE {partition_name} PARTITION OF partitioned_table\n",
    "                    PARTITION BY RANGE (year)\n",
    "                    SUBPARTITION BY HASH (month)\n",
    "                    SUBPARTITIONS 12 (\n",
    "                        PARTITION p{year} VALUES LESS THAN ({year}),\n",
    "                        PARTITION p{year}_0 SUBPARTITION BY HASH (month) (SUBPARTITION p{year}_0 VALUES LESS THAN ({month})),\n",
    "                        PARTITION p{year}_1 SUBPARTITION BY HASH (month) (SUBPARTITION p{year}_1 VALUES LESS THAN ({month + 1}))\n",
    "                    );\n",
    "                \"\"\")\n"
   ]
  },
  {
   "cell_type": "markdown",
   "id": "164902dd",
   "metadata": {},
   "source": [
    "###  Implement data compression techniques to reduce storage costs."
   ]
  },
  {
   "cell_type": "code",
   "execution_count": 82,
   "id": "aa5eda17",
   "metadata": {
    "scrolled": true
   },
   "outputs": [],
   "source": [
    "# Assuming df is your OLHC DataFrame\n",
    "\n",
    "# Convert the Timestamp column to UTC timezone using tz_convert\n",
    "df['Timestamp'] = df['Timestamp'].dt.tz_convert('UTC')\n",
    "\n",
    "# Save the OLHC DataFrame with Parquet compression\n",
    "compression_method = 'gzip'  # Specify the compression method (e.g., 'gzip', 'snappy', 'brotli', etc.)\n",
    "df.to_parquet('compressed_olhc_data.parquet', compression=compression_method)\n",
    "\n",
    "# Load the compressed OLHC DataFrame\n",
    "compressed_df = pd.read_parquet('compressed_olhc_data.parquet')\n"
   ]
  },
  {
   "cell_type": "markdown",
   "id": "fba2b7fd",
   "metadata": {},
   "source": [
    "### To define quality check"
   ]
  },
  {
   "cell_type": "code",
   "execution_count": 83,
   "id": "6dfe47bc",
   "metadata": {},
   "outputs": [
    {
     "name": "stdout",
     "output_type": "stream",
     "text": [
      "Data quality alerts:\n",
      "Outliers detected in column 'Volume': [170772700.0, 175158300.0, 174667900.0, 210970800.0, 170222100.0, 169545900.0, 179990600.0, 176584100.0, 211797100.0, 170575500.0, 199882300.0, 185710800.0, 234815100.0, 192734300.0, 203119200.0, 170291900.0, 195680300.0, 186477000.0, 180714100.0, 169400900.0, 183810800.0, 190284000.0, 220911100.0, 180389000.0, 231402800.0, 306590600.0, 230878800.0, 196813500.0, 213806300.0, 181500700.0, 170023800.0, 191488900.0, 217448300.0, 232662000.0, 186188100.0, 186010300.0, 180673600.0, 215431400.0, 204754100.0, 216455700.0, 181006400.0, 229586500.0, 213738500.0, 180018600.0, 191828500.0, 172475500.0]\n",
      "Error processing column 'Ticker': Unable to parse string \"AAPL\" at position 0\n",
      "Outliers detected in column 'Bollinger_Band_Lower': [-207.47462699461636]\n",
      "Outliers detected in column 'Daily_Return': [2.4011877446176393, 1.5533837368137369, 0.9815971972441924, 0.9447879801724777, -0.9261438095504582, 1.297418664387838, 1.121553060730577, 5.224598920091953, -0.8494002632219677, 5.3554929781565495, -0.8499858633891915, 5.580966319443125, 3.2890982139154312, 3.054928326180293, 3.2077655246655166, 3.187815788935315, 0.91911979669467, 1.0585434533313913]\n",
      "Outliers detected in column 'Volatility': [18.539258842621905, 18.535833579019325, 18.5441898347964, 18.538709667661326, 18.542260362229833, 18.545395793447454, 18.54963453134999, 18.551570202002296, 18.556082561834213, 18.5576687519428, 18.571393259821594, 18.572525136511317, 18.566263156846688, 18.572501185293508, 18.571837783248068, 18.56417659294552, 18.55785048894349, 18.569424630110717, 18.5675011150071, 18.560349231921, 19.372914075684076, 19.746668695586493, 27.46947260611269, 27.490495209902196, 27.49253222532152, 27.494850112482386, 27.491162709820163, 27.486178450216478, 27.488706730410055, 27.494530152451887, 27.489289993201847, 27.49749455204616, 27.501377131997074, 27.504083798930488, 27.124439255829152, 27.129567878039133, 27.129625275496835, 27.124981014309416, 27.138463986207014, 27.272568159384782, 20.587613775212162, 20.23911015657663, 15.767444150380028, 16.140653022139148, 16.137307578967707, 16.125878238462768, 16.12831735543567]\n"
     ]
    }
   ],
   "source": [
    "def data_quality_checks(df):\n",
    "    outlier_threshold = 3  # Define your outlier threshold here\n",
    "\n",
    "    alerts = []\n",
    "\n",
    "    for col in df.columns:\n",
    "        if df[col].dtype != 'datetime64[ns]':  # Exclude datetime columns\n",
    "            try:\n",
    "                # Attempt to convert the column to numeric type\n",
    "                numeric_col = pd.to_numeric(df[col])\n",
    "                mean = numeric_col.mean()\n",
    "                std = numeric_col.std()\n",
    "                outliers = numeric_col[(numeric_col < mean - outlier_threshold * std) | \n",
    "                                       (numeric_col > mean + outlier_threshold * std)]\n",
    "                if not outliers.empty:\n",
    "                    alerts.append(f\"Outliers detected in column '{col}': {outliers.tolist()}\")\n",
    "            except ValueError as e:\n",
    "                alerts.append(f\"Error processing column '{col}': {e}\")\n",
    "\n",
    "    return alerts\n",
    "\n",
    "# Example usage:\n",
    "# alerts = data_quality_checks(df)\n",
    "# for alert in alerts:\n",
    "#     print(alert)\n",
    "\n",
    "# Perform data quality checks on the OLHC DataFrame\n",
    "alerts = data_quality_checks(df)\n",
    "\n",
    "# Print alerts if any\n",
    "if alerts:\n",
    "    print(\"Data quality alerts:\")\n",
    "    for alert in alerts:\n",
    "        print(alert)\n",
    "else:\n",
    "    print(\"No data quality issues found.\")"
   ]
  },
  {
   "cell_type": "code",
   "execution_count": 84,
   "id": "3769ff00",
   "metadata": {},
   "outputs": [],
   "source": [
    "import pandas as pd\n",
    "\n",
    "def fix_errors_and_outliers(df):\n",
    "    # Remove rows with outliers in 'Volume', 'Bollinger_Band_Lower', 'Daily_Return', and 'Volatility' columns\n",
    "    outlier_indices = df[df['Volume'].isin([170772700.0, 175158300.0, 174667900.0, 210970800.0, 170222100.0, 169545900.0, 179990600.0, 176584100.0, 211797100.0, 170575500.0, 199882300.0, 185710800.0, 234815100.0, 192734300.0, 203119200.0, 170291900.0, 195680300.0, 186477000.0, 180714100.0, 169400900.0, 183810800.0, 190284000.0, 220911100.0, 180389000.0, 231402800.0, 306590600.0, 230878800.0, 196813500.0, 213806300.0, 181500700.0, 170023800.0, 191488900.0, 217448300.0, 232662000.0, 186188100.0, 186010300.0, 180673600.0, 215431400.0, 204754100.0, 216455700.0, 181006400.0, 229586500.0, 213738500.0, 180018600.0, 191828500.0, 172475500.0])]\n",
    "    df.drop(outlier_indices.index, inplace=True)\n",
    "\n",
    "    # Remove rows with errors in 'Ticker' column\n",
    "    error_indices = df[df['Ticker'] == 'AAPL'].index\n",
    "    df.drop(error_indices, inplace=True)\n",
    "\n",
    "    # Remove rows with outliers in 'Bollinger_Band_Lower' column\n",
    "    df = df[df['Bollinger_Band_Lower'] != -207.47462699461636]\n",
    "\n",
    "    # Remove rows with outliers in 'Daily_Return' column\n",
    "    df = df[~df['Daily_Return'].isin([2.4011877446176393, 1.5533837368137369, 0.9815971972441924])]\n",
    "\n",
    "    # Remove rows with outliers in 'Volatility' column\n",
    "    df = df[~df['Volatility'].isin([18.539258842621905, 18.535833579019325, 18.5441898347964, 18.538709667661326, 18.542260362229833, 18.545395793447454, 18.54963453134999, 18.551570202002296, 18.556082561834213, 18.5576687519428, 18.571393259821594, 18.572525136511317, 18.566263156846688, 18.572501185293508, 18.571837783248068, 18.56417659294552, 18.55785048894349, 18.569424630110717, 18.5675011150071, 18.560349231921, 19.372914075684076, 19.746668695586493, 27.46947260611269, 27.490495209902196, 27.49253222532152, 27.494850112482386, 27.491162709820163, 27.486178450216478, 27.488706730410055, 27.494530152451887, 27.489289993201847, 27.49749455204616, 27.501377131997074, 27.504083798930488, 27.124439255829152, 27.129567878039133, 27.129625275496835, 27.124981014309416, 27.138463986207014, 27.272568159384782, 20.587613775212162, 20.23911015657663, 15.767444150380028, 16.140653022139148, 16.137307578967707, 16.125878238462768, 16.12831735543567])]\n",
    "\n",
    "    return df\n",
    "\n",
    "\n",
    "df_cleaned = fix_errors_and_outliers(df)\n"
   ]
  },
  {
   "cell_type": "code",
   "execution_count": 85,
   "id": "1b580e8d",
   "metadata": {},
   "outputs": [
    {
     "name": "stdout",
     "output_type": "stream",
     "text": [
      "No data quality issues found.\n"
     ]
    }
   ],
   "source": [
    "alerts = data_quality_checks(df)\n",
    "\n",
    "# Print alerts if any\n",
    "if alerts:\n",
    "    print(\"Data quality alerts:\")\n",
    "    for alert in alerts:\n",
    "        print(alert)\n",
    "else:\n",
    "    print(\"No data quality issues found.\")"
   ]
  },
  {
   "cell_type": "code",
   "execution_count": 86,
   "id": "8839857c",
   "metadata": {},
   "outputs": [
    {
     "name": "stdout",
     "output_type": "stream",
     "text": [
      "Requirement already satisfied: plotly in c:\\users\\ankita singh\\anaconda3\\lib\\site-packages (5.9.0)\n",
      "Requirement already satisfied: tenacity>=6.2.0 in c:\\users\\ankita singh\\anaconda3\\lib\\site-packages (from plotly) (8.2.3)\n"
     ]
    }
   ],
   "source": [
    "!pip install plotly\n"
   ]
  },
  {
   "cell_type": "code",
   "execution_count": 90,
   "id": "496d748a",
   "metadata": {},
   "outputs": [],
   "source": [
    "\n",
    "df.to_csv('output.csv', index=False)\n"
   ]
  },
  {
   "cell_type": "code",
   "execution_count": null,
   "id": "6e2f4c13",
   "metadata": {},
   "outputs": [],
   "source": []
  }
 ],
 "metadata": {
  "kernelspec": {
   "display_name": "Python 3 (ipykernel)",
   "language": "python",
   "name": "python3"
  },
  "language_info": {
   "codemirror_mode": {
    "name": "ipython",
    "version": 3
   },
   "file_extension": ".py",
   "mimetype": "text/x-python",
   "name": "python",
   "nbconvert_exporter": "python",
   "pygments_lexer": "ipython3",
   "version": "3.9.13"
  }
 },
 "nbformat": 4,
 "nbformat_minor": 5
}
